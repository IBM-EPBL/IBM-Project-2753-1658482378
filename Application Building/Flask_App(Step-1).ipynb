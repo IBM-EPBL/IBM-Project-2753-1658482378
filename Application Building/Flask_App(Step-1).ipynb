{
  "nbformat": 4,
  "nbformat_minor": 0,
  "metadata": {
    "colab": {
      "provenance": []
    },
    "kernelspec": {
      "name": "python3",
      "display_name": "Python 3"
    },
    "language_info": {
      "name": "python"
    }
  },
  "cells": [
    {
      "cell_type": "markdown",
      "source": [
        "**Flask App (Step-1)**"
      ],
      "metadata": {
        "id": "hy1SjpADaHhC"
      }
    },
    {
      "cell_type": "code",
      "execution_count": 4,
      "metadata": {
        "id": "tAlBsIXlZ-Ym"
      },
      "outputs": [],
      "source": [
        "import numpy as np\n",
        "from flask import Flask, request, jsonify, render_template\n",
        "import pickle"
      ]
    },
    {
      "cell_type": "code",
      "source": [
        "app = Flask(__name__)\n",
        "model = pickle.load(open('Phishing_Website.pkl','rb'))"
      ],
      "metadata": {
        "id": "cw1s_6SMactn"
      },
      "execution_count": 9,
      "outputs": []
    },
    {
      "cell_type": "code",
      "source": [],
      "metadata": {
        "id": "lktOPTSxanzX"
      },
      "execution_count": null,
      "outputs": []
    }
  ]
}